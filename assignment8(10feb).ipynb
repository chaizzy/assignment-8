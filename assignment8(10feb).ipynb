{
 "cells": [
  {
   "cell_type": "code",
   "execution_count": 1,
   "id": "64297cf8-afc5-467a-8d4a-a3fbd3093d99",
   "metadata": {},
   "outputs": [],
   "source": [
    "#ANS 1\n",
    "# \" open() \" function  is used to open a file \n",
    "# modes of open() function are:\n",
    "# 'r'       open for reading (default)\n",
    "# 'w'       open for writing, truncating the file first\n",
    "# 'x'       create a new file and open it for writing\n",
    "# 'a'       open for writing, appending to the end of the file if it exists\n",
    "# 'b'       binary mode\n",
    "# 't'       text mode (default)\n",
    "# '+'       open a disk file for updating (reading and writing)\n",
    "# 'U'       universal newline mode (deprecated)"
   ]
  },
  {
   "cell_type": "code",
   "execution_count": 2,
   "id": "daa5d085-c5c1-4f1d-b035-a6df28a04c7d",
   "metadata": {},
   "outputs": [],
   "source": [
    "#ANS 2:\n",
    "# close() is used to close the open file and it is important because\n",
    "# whatever changes you have done  will not be visible in that file if you does not close the file"
   ]
  },
  {
   "cell_type": "code",
   "execution_count": 6,
   "id": "f96f8e68-477d-4e5a-ae09-9f75f584cab9",
   "metadata": {},
   "outputs": [
    {
     "data": {
      "text/plain": [
       "34"
      ]
     },
     "execution_count": 6,
     "metadata": {},
     "output_type": "execute_result"
    }
   ],
   "source": [
    "# ANS 3:\n",
    "f = open(\"text.txt\" ,'w')\n",
    "f.write(\" I want to become a data scientist\")"
   ]
  },
  {
   "cell_type": "code",
   "execution_count": 7,
   "id": "1ea33525-11a1-4072-bbc9-45e6af4eafce",
   "metadata": {},
   "outputs": [],
   "source": [
    "f.close()"
   ]
  },
  {
   "cell_type": "code",
   "execution_count": 9,
   "id": "794b166b-ce8d-45c9-94e1-37458b6d6d7b",
   "metadata": {},
   "outputs": [],
   "source": [
    "f= open(\"text.txt\" , 'r')"
   ]
  },
  {
   "cell_type": "code",
   "execution_count": 10,
   "id": "0f98d829-271c-48c1-bbf3-ff260c556aa1",
   "metadata": {},
   "outputs": [
    {
     "data": {
      "text/plain": [
       "' I want to become a data scientist'"
      ]
     },
     "execution_count": 10,
     "metadata": {},
     "output_type": "execute_result"
    }
   ],
   "source": [
    "f.read()"
   ]
  },
  {
   "cell_type": "code",
   "execution_count": 11,
   "id": "513f62ef-761a-40a4-a248-6259edf4de5b",
   "metadata": {},
   "outputs": [],
   "source": [
    "# ANS 4:\n",
    "# f.read() = Read at most n characters from stream.\n",
    "# f.readline() = read until new line\n",
    "# f.readlines() = Return a list of lines from the stream."
   ]
  },
  {
   "cell_type": "code",
   "execution_count": 12,
   "id": "a6b28bf4-e2c9-4a68-82ec-5c85632eb3a9",
   "metadata": {},
   "outputs": [],
   "source": [
    "# ANS 5 :\n",
    "# unlike in open function for a file , we have to close that file to make the changes but,\n",
    "# with open the file and closes it with telling it to u"
   ]
  },
  {
   "cell_type": "code",
   "execution_count": 22,
   "id": "f492da61-5298-4414-b531-4fe8fa9f5f25",
   "metadata": {},
   "outputs": [
    {
     "data": {
      "text/plain": [
       "34"
      ]
     },
     "execution_count": 22,
     "metadata": {},
     "output_type": "execute_result"
    }
   ],
   "source": [
    "# ANS 6:\n",
    "# write() function is used to write the data in a created text file\n",
    "a = open(\"text1.txt\" ,'w')\n",
    "a.write(\" I want to become a data scientist\")"
   ]
  },
  {
   "cell_type": "code",
   "execution_count": 30,
   "id": "57d4ca7d-8ded-495c-b87a-550bfe315034",
   "metadata": {},
   "outputs": [],
   "source": [
    "a.close()"
   ]
  },
  {
   "cell_type": "code",
   "execution_count": null,
   "id": "42bff2a3-f3e7-4686-b08f-99e85eb4065b",
   "metadata": {},
   "outputs": [],
   "source": [
    "\n"
   ]
  },
  {
   "cell_type": "code",
   "execution_count": null,
   "id": "57a12dce-81f2-48af-859c-ca16dfd1a609",
   "metadata": {},
   "outputs": [],
   "source": []
  },
  {
   "cell_type": "code",
   "execution_count": null,
   "id": "e6fa5737-f4f5-4a74-9df9-2a89cb491052",
   "metadata": {},
   "outputs": [],
   "source": []
  },
  {
   "cell_type": "code",
   "execution_count": null,
   "id": "211db4c3-0cbe-4368-a4e0-d31138983bf5",
   "metadata": {},
   "outputs": [],
   "source": []
  }
 ],
 "metadata": {
  "kernelspec": {
   "display_name": "Python 3 (ipykernel)",
   "language": "python",
   "name": "python3"
  },
  "language_info": {
   "codemirror_mode": {
    "name": "ipython",
    "version": 3
   },
   "file_extension": ".py",
   "mimetype": "text/x-python",
   "name": "python",
   "nbconvert_exporter": "python",
   "pygments_lexer": "ipython3",
   "version": "3.10.8"
  }
 },
 "nbformat": 4,
 "nbformat_minor": 5
}
